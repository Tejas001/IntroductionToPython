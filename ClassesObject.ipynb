{
 "cells": [
  {
   "cell_type": "code",
   "execution_count": 6,
   "id": "fb817937",
   "metadata": {},
   "outputs": [
    {
     "name": "stdout",
     "output_type": "stream",
     "text": [
      "Tom is running at speed 20\n"
     ]
    }
   ],
   "source": [
    "class Dog:\n",
    "    def __init__(self,name,age,speed):\n",
    "        self.name=name\n",
    "        self.age=age\n",
    "        self.speed=speed\n",
    "    \n",
    "    def _run(self):\n",
    "        print(f'{self.name} is running at speed {self.speed}')\n",
    "    \n",
    "d1=Dog('Tom',2,20)\n",
    "d1._run()"
   ]
  },
  {
   "cell_type": "code",
   "execution_count": null,
   "id": "4bbece02",
   "metadata": {},
   "outputs": [],
   "source": [
    "class PhoneBook:\n",
    "    \n",
    "    def __init__(self,phonebookIndexNumber,phonebookIndexName):\n",
    "        self.phonebookIndexNumber=phonebookIndexNumber\n",
    "        self.phonebookIndexName=phonebookIndexName\n",
    "    \n",
    "    def addToPhonebook(self,number,name):\n",
    "        phonebookIndexNumber[number]=self.name\n",
    "        phonebookIndexName[name]=self.number\n",
    "        print('Added successfully')\n",
    "    \n",
    "    def viewPhonebook(self):\n",
    "        print(sorted(list(self.phonebookIndexNumber.values()),key=lambda x:x[1]))\n",
    "\n",
    "    def deleteByNumber(self,number):\n",
    "        if number in self.phonebookIndexNumber:\n",
    "            ans = self.phonebookIndexNumber[number]\n",
    "            name=ans[1]\n",
    "            del self.phonebookIndexNumber[number]\n",
    "            del self.phonebookIndexName[name]\n",
    "            print('Deleting number')\n",
    "        else:\n",
    "            print('Number not exist')\n",
    "    \n",
    "    def deleteByName(self,name):\n",
    "        if name in self.phonebookIndexName:\n",
    "            ans = self.phonebookIndexName[name]\n",
    "            num=ans[0]\n",
    "            del self.phonebookIndexNumber[num]\n",
    "            del self.phonebookIndexName[name]\n",
    "\n",
    "            print('Deleting name')\n",
    "        else:\n",
    "            print('Name not exist')\n",
    "\n",
    "    \n",
    "    def updatePhonebook(self,oldnum,newnum,newname):\n",
    "        if oldnum in self.phonebookIndexNumber:\n",
    "            ans=self.phonebookIndexNumber[oldnum]\n",
    "            del self.phonebookIndexNumber[oldnum]\n",
    "            del self.phonebookIndexName[ans[1]]\n",
    "            self.phonebookIndexNumber[newname]=[newnum,newname]\n",
    "            self.phonebookIndexName[newname]=[newnum,newname]\n",
    "            print('Phonebook Updated')\n",
    "        \n",
    "    def queryInput(self):\n",
    "        query=input().split(\" \")\n",
    "        if query[0] == \"add\":\n",
    "            ph.addToPhonebook(query[1],query[2])\n",
    "        elif query[0] == \"view\":\n",
    "            ph.viewPhonebook()\n",
    "        elif query[0] == \"delete\":\n",
    "            if query[1] == 'number':\n",
    "                ph.deleteByNumber(query[2])\n",
    "            elif query[1] == 'name':\n",
    "                ph.deleteByName(query[2])\n",
    "        elif query[0] == \"edit\":\n",
    "            ph.updatePhonebook(query[1],query[2],query[3])\n",
    "        else:\n",
    "            print('Wrong command')\n",
    "\n",
    "\n",
    "n = int(input(''))\n",
    "ph=PhoneBook({},{})\n",
    "for i in range(n):\n",
    "    ph.queryInput()"
   ]
  },
  {
   "cell_type": "markdown",
   "id": "029d96cc",
   "metadata": {},
   "source": [
    "# Inheritance"
   ]
  },
  {
   "cell_type": "code",
   "execution_count": 7,
   "id": "eb8fcb1f",
   "metadata": {},
   "outputs": [
    {
     "name": "stdout",
     "output_type": "stream",
     "text": [
      "Phonebook 2022-01-09 16:46:30.119480 True This is test\n"
     ]
    }
   ],
   "source": [
    "import datetime\n",
    "\n",
    "class PrintData():\n",
    "    \n",
    "    def __init__(self,baseline,log):\n",
    "        self.baseline=baseline\n",
    "        self.log=[]\n",
    "    \n",
    "    def printIt(self,data,success):\n",
    "        printStatement=self.baseline +\" \"+ str(datetime.datetime.now()) + \" \" + str(success) + \" \" + str(data))\n",
    "        self.log.append(printStatement)\n",
    "\n",
    "printit=PrintData('Phonebook')\n",
    "printit.printIt('This is test',True)\n",
    "\n",
    "\n",
    "class PhoneBook(PrintData):\n",
    "    \n",
    "    def __init__(self,phonebookIndexNumber,phonebookIndexName,applicationname):\n",
    "        self.phonebookIndexNumber=phonebookIndexNumber\n",
    "        self.phonebookIndexName=phonebookIndexName\n",
    "        super().__init__(applicationname)\n",
    "    \n",
    "    def addToPhonebook(self,number,name):\n",
    "        phonebookIndexNumber[number]=self.name\n",
    "        phonebookIndexName[name]=self.number\n",
    "        print('Added successfully')\n",
    "        self.printIt('Added successfully',True)\n",
    "    \n",
    "    def viewPhonebook(self):\n",
    "        print(sorted(list(self.phonebookIndexNumber.values()),key=lambda x:x[1]))\n",
    "\n",
    "    def deleteByNumber(self,number):\n",
    "        if number in self.phonebookIndexNumber:\n",
    "            ans = self.phonebookIndexNumber[number]\n",
    "            name=ans[1]\n",
    "            del self.phonebookIndexNumber[number]\n",
    "            del self.phonebookIndexName[name]\n",
    "            print('Deleting number')\n",
    "            self.printIt('Deleting number',True)\n",
    "        else:\n",
    "            print('Number not exist')\n",
    "            self.printIt('Deleting number not exist',False)\n",
    "    \n",
    "    def deleteByName(self,name):\n",
    "        if name in self.phonebookIndexName:\n",
    "            ans = self.phonebookIndexName[name]\n",
    "            num=ans[0]\n",
    "            del self.phonebookIndexNumber[num]\n",
    "            del self.phonebookIndexName[name]\n",
    "\n",
    "            print('Deleting name')\n",
    "            self.printIt('Deleting name',True)\n",
    "        else:\n",
    "            print('Name not exist')\n",
    "            self.printIt('Deleting number not exist',False)\n",
    "\n",
    "    \n",
    "    def updatePhonebook(self,oldnum,newnum,newname):\n",
    "        if oldnum in self.phonebookIndexNumber:\n",
    "            ans=self.phonebookIndexNumber[oldnum]\n",
    "            del self.phonebookIndexNumber[oldnum]\n",
    "            del self.phonebookIndexName[ans[1]]\n",
    "            self.phonebookIndexNumber[newname]=[newnum,newname]\n",
    "            self.phonebookIndexName[newname]=[newnum,newname]\n",
    "            print('Phonebook Updated')\n",
    "            self.printIt('Phonebook Updated',True)\n",
    "        \n",
    "    def queryInput(self):\n",
    "        query=input().split(\" \")\n",
    "        if query[0] == \"add\":\n",
    "            ph.addToPhonebook(query[1],query[2])\n",
    "        elif query[0] == \"view\":\n",
    "            ph.viewPhonebook()\n",
    "        elif query[0] == \"delete\":\n",
    "            if query[1] == 'number':\n",
    "                ph.deleteByNumber(query[2])\n",
    "            elif query[1] == 'name':\n",
    "                ph.deleteByName(query[2])\n",
    "        elif query[0] == \"edit\":\n",
    "            ph.updatePhonebook(query[1],query[2],query[3])\n",
    "        else:\n",
    "            print('Wrong command')\n",
    "\n",
    "\n",
    "n = int(input(''))\n",
    "ph=PhoneBook({},{})\n",
    "for i in range(n):\n",
    "    ph.queryInput()"
   ]
  },
  {
   "cell_type": "code",
   "execution_count": 11,
   "id": "5f06d03e",
   "metadata": {},
   "outputs": [
    {
     "name": "stdout",
     "output_type": "stream",
     "text": [
      "1,2,3\n"
     ]
    },
    {
     "ename": "TypeError",
     "evalue": "int() argument must be a string, a bytes-like object or a number, not 'list'",
     "output_type": "error",
     "traceback": [
      "\u001b[1;31m---------------------------------------------------------------------------\u001b[0m",
      "\u001b[1;31mTypeError\u001b[0m                                 Traceback (most recent call last)",
      "\u001b[1;32m~\\AppData\\Local\\Temp/ipykernel_9252/1095345112.py\u001b[0m in \u001b[0;36m<module>\u001b[1;34m\u001b[0m\n\u001b[1;32m----> 1\u001b[1;33m \u001b[0ma\u001b[0m\u001b[1;33m=\u001b[0m\u001b[0mint\u001b[0m\u001b[1;33m(\u001b[0m\u001b[0minput\u001b[0m\u001b[1;33m(\u001b[0m\u001b[1;33m)\u001b[0m\u001b[1;33m.\u001b[0m\u001b[0msplit\u001b[0m\u001b[1;33m(\u001b[0m\u001b[1;34m','\u001b[0m\u001b[1;33m)\u001b[0m\u001b[1;33m)\u001b[0m\u001b[1;33m\u001b[0m\u001b[1;33m\u001b[0m\u001b[0m\n\u001b[0m\u001b[0;32m      2\u001b[0m \u001b[0ma\u001b[0m\u001b[1;33m\u001b[0m\u001b[1;33m\u001b[0m\u001b[0m\n",
      "\u001b[1;31mTypeError\u001b[0m: int() argument must be a string, a bytes-like object or a number, not 'list'"
     ]
    }
   ],
   "source": [
    "a=input().split(',')\n",
    "for a"
   ]
  },
  {
   "cell_type": "code",
   "execution_count": 23,
   "id": "88f099fe",
   "metadata": {},
   "outputs": [
    {
     "name": "stdout",
     "output_type": "stream",
     "text": [
      "[1, 2, 3]\n"
     ]
    }
   ],
   "source": [
    "l=[]\n",
    "\n",
    "for i in a:\n",
    "    l.append(int(i))\n",
    "    \n",
    "print(l)"
   ]
  },
  {
   "cell_type": "code",
   "execution_count": null,
   "id": "2dc851ea",
   "metadata": {},
   "outputs": [],
   "source": []
  }
 ],
 "metadata": {
  "kernelspec": {
   "display_name": "Python 3 (ipykernel)",
   "language": "python",
   "name": "python3"
  },
  "language_info": {
   "codemirror_mode": {
    "name": "ipython",
    "version": 3
   },
   "file_extension": ".py",
   "mimetype": "text/x-python",
   "name": "python",
   "nbconvert_exporter": "python",
   "pygments_lexer": "ipython3",
   "version": "3.9.0"
  }
 },
 "nbformat": 4,
 "nbformat_minor": 5
}
