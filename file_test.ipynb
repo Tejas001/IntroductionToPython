{
 "cells": [
  {
   "cell_type": "code",
   "execution_count": 11,
   "id": "2baebdd9",
   "metadata": {},
   "outputs": [
    {
     "name": "stdout",
     "output_type": "stream",
     "text": [
      "Hello World \n",
      "\n",
      "Hello World \n",
      "\n",
      "Hello World \n",
      "\n",
      "Hello World \n",
      "\n",
      "File closed\n"
     ]
    }
   ],
   "source": [
    "f=open(\"file_name\",\"r\")\n",
    "for p in f.readlines():\n",
    "    print(p)\n",
    "f.close()\n",
    "print('File closed')"
   ]
  },
  {
   "cell_type": "code",
   "execution_count": null,
   "id": "71ff5536",
   "metadata": {},
   "outputs": [],
   "source": []
  }
 ],
 "metadata": {
  "kernelspec": {
   "display_name": "Python 3 (ipykernel)",
   "language": "python",
   "name": "python3"
  },
  "language_info": {
   "codemirror_mode": {
    "name": "ipython",
    "version": 3
   },
   "file_extension": ".py",
   "mimetype": "text/x-python",
   "name": "python",
   "nbconvert_exporter": "python",
   "pygments_lexer": "ipython3",
   "version": "3.9.0"
  }
 },
 "nbformat": 4,
 "nbformat_minor": 5
}
