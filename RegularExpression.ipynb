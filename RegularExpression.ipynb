{
 "cells": [
  {
   "cell_type": "code",
   "execution_count": 1,
   "id": "ee4b2440",
   "metadata": {},
   "outputs": [],
   "source": [
    "import re"
   ]
  },
  {
   "cell_type": "code",
   "execution_count": 6,
   "id": "60610ab9",
   "metadata": {},
   "outputs": [
    {
     "name": "stdout",
     "output_type": "stream",
     "text": [
      "['re']\n"
     ]
    }
   ],
   "source": [
    "str='Regular, Expression'\n",
    "\n",
    "x=re.findall('re',str)\n",
    "print(x)"
   ]
  },
  {
   "cell_type": "code",
   "execution_count": 7,
   "id": "56f2a3f1",
   "metadata": {},
   "outputs": [
    {
     "name": "stdout",
     "output_type": "stream",
     "text": [
      "<re.Match object; span=(11, 13), match='re'>\n"
     ]
    }
   ],
   "source": [
    "str='Regular Expression'\n",
    "\n",
    "x1=re.search('re',str)\n",
    "print(x1)"
   ]
  },
  {
   "cell_type": "code",
   "execution_count": 12,
   "id": "5ae87208",
   "metadata": {},
   "outputs": [
    {
     "name": "stdout",
     "output_type": "stream",
     "text": [
      "['Regular', 'Expression']\n"
     ]
    }
   ],
   "source": [
    "str='Regular Expression'\n",
    "\n",
    "x2=re.split(' ',str)\n",
    "print(x2)"
   ]
  },
  {
   "cell_type": "code",
   "execution_count": 14,
   "id": "3f51c57b",
   "metadata": {},
   "outputs": [
    {
     "name": "stdout",
     "output_type": "stream",
     "text": [
      "_R_e_g_u_l_a_r_,_ _E_x_p_r_e_s_s_i_o_n_\n"
     ]
    }
   ],
   "source": [
    "str='Regular, Expression'\n",
    "\n",
    "x3=re.sub('','_',str)\n",
    "print(x3)"
   ]
  },
  {
   "cell_type": "code",
   "execution_count": 20,
   "id": "8391fcf3",
   "metadata": {},
   "outputs": [
    {
     "name": "stdout",
     "output_type": "stream",
     "text": [
      "None\n",
      "Not matched\n"
     ]
    }
   ],
   "source": [
    "strg='Regular , Expression'\n",
    "pattern = '^R.....r$'\n",
    "\n",
    "out=re.match(pattern,strg)\n",
    "print(out)\n",
    "\n",
    "if out:\n",
    "    print('Successful')\n",
    "else:\n",
    "    print('Not matched')"
   ]
  },
  {
   "cell_type": "code",
   "execution_count": 23,
   "id": "b140cc16",
   "metadata": {},
   "outputs": [
    {
     "name": "stdout",
     "output_type": "stream",
     "text": [
      "['12', '20']\n"
     ]
    }
   ],
   "source": [
    "d='Regular 12, Expression 20'\n",
    "pattern='\\d+'\n",
    "\n",
    "x4=re.findall(pattern,d)\n",
    "print(x4)"
   ]
  },
  {
   "cell_type": "code",
   "execution_count": 24,
   "id": "4c162eab",
   "metadata": {},
   "outputs": [
    {
     "name": "stdout",
     "output_type": "stream",
     "text": [
      "['Regular', '12', 'Expression', '20']\n"
     ]
    }
   ],
   "source": [
    "d='Regular 12, Expression 20'\n",
    "pattern='\\w+'\n",
    "\n",
    "x4=re.findall(pattern,d)\n",
    "print(x4)"
   ]
  },
  {
   "cell_type": "code",
   "execution_count": 25,
   "id": "ed6cb221",
   "metadata": {},
   "outputs": [
    {
     "name": "stdout",
     "output_type": "stream",
     "text": [
      "['12', '20']\n"
     ]
    }
   ],
   "source": [
    "d='Regular 12, Expression 20'\n",
    "pattern='[0-9]+'\n",
    "\n",
    "x4=re.findall(pattern,d)\n",
    "print(x4)"
   ]
  },
  {
   "cell_type": "code",
   "execution_count": 27,
   "id": "29a4c847",
   "metadata": {},
   "outputs": [
    {
     "name": "stdout",
     "output_type": "stream",
     "text": [
      "<re.Match object; span=(11, 21), match='2021/01/03'>\n"
     ]
    }
   ],
   "source": [
    "s='Ram dob is 2021/01/03'\n",
    "s1=re.search(r'\\d{4}/\\d{2}/\\d{2}',s)\n",
    "print(s1)"
   ]
  },
  {
   "cell_type": "code",
   "execution_count": 28,
   "id": "ebb21867",
   "metadata": {},
   "outputs": [
    {
     "name": "stdout",
     "output_type": "stream",
     "text": [
      "<re.Match object; span=(11, 21), match='2021/01/03'>\n"
     ]
    }
   ],
   "source": [
    "s='Ram dob is 2021/01/03'\n",
    "s1=re.search(r'\\d+/\\d+/\\d+',s)\n",
    "print(s1)"
   ]
  },
  {
   "cell_type": "code",
   "execution_count": 32,
   "id": "ab88657b",
   "metadata": {},
   "outputs": [
    {
     "name": "stdout",
     "output_type": "stream",
     "text": [
      "<re.Match object; span=(0, 27), match='tejas.chougule1994@gmail.in'>\n"
     ]
    }
   ],
   "source": [
    "s= 'tejas.chougule1994@gmail.in'\n",
    "regex='^[a-z0-9]+[\\.]?[a-z0-9]+[@]\\w+[.]\\w{2,3}$'\n",
    "o=re.search(regex,s)\n",
    "print(o)"
   ]
  },
  {
   "cell_type": "code",
   "execution_count": null,
   "id": "dae61a2b",
   "metadata": {},
   "outputs": [],
   "source": []
  }
 ],
 "metadata": {
  "kernelspec": {
   "display_name": "Python 3 (ipykernel)",
   "language": "python",
   "name": "python3"
  },
  "language_info": {
   "codemirror_mode": {
    "name": "ipython",
    "version": 3
   },
   "file_extension": ".py",
   "mimetype": "text/x-python",
   "name": "python",
   "nbconvert_exporter": "python",
   "pygments_lexer": "ipython3",
   "version": "3.9.0"
  }
 },
 "nbformat": 4,
 "nbformat_minor": 5
}
