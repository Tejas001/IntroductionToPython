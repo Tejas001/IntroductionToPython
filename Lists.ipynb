{
 "cells": [
  {
   "cell_type": "code",
   "execution_count": 5,
   "id": "44e2cff8",
   "metadata": {
    "scrolled": true
   },
   "outputs": [
    {
     "name": "stdout",
     "output_type": "stream",
     "text": [
      "0.09996119760111376\n",
      "0.13788484061438383\n",
      "0.34953629214664594\n",
      "0.2769882527027905\n",
      "0.45244149197243855\n",
      "0.07177437908575267\n",
      "0.47125907168737446\n",
      "0.518759119934946\n",
      "0.5509111803531247\n",
      "0.5019447595237883\n",
      "0.2934379274459001\n",
      "0.05893071297223706\n",
      "0.4072868270720064\n",
      "0.3409150202122523\n",
      "0.43699179576866454\n",
      "0.1418759560841604\n",
      "0.49307679810359334\n",
      "0.3667969236385019\n",
      "0.44806421180577477\n",
      "0.5083125757737501\n",
      "0.46307872843466996\n",
      "0.4809035080547124\n",
      "0.39571463048492056\n",
      "0.5177567485291206\n",
      "0.4676905827020365\n",
      "0.49344301316217337\n",
      "0.40418621540271205\n",
      "0.4456142023234251\n",
      "0.4408522807841943\n",
      "0.5384271102459737\n",
      "0.33269164091274317\n",
      "0.35266853263391973\n",
      "0.4806223036075579\n",
      "0.07020513078070072\n",
      "0.5500443992908648\n",
      "0.3776799699440302\n",
      "0.4130110217882655\n",
      "0.4999081404584978\n",
      "0.40399023208767904\n",
      "0.4209629019952588\n",
      "0.6428512565951808\n",
      "0.42787743835876424\n",
      "0.5019097575407192\n",
      "0.6222162713769961\n",
      "0.5401695499938007\n",
      "0.3527485536924847\n",
      "0.5156273552790275\n",
      "0.5549151876391342\n",
      "0.3678132464190443\n",
      "0.38632097899925244\n",
      "0.08346595703621226\n",
      "0.09522767101149084\n",
      "0.27508810748762635\n",
      "0.4431685705617961\n",
      "0.305355238752631\n",
      "0.4234665624825735\n",
      "0.15202404635989564\n",
      "0.2767502210657612\n",
      "0.31605146131257245\n",
      "0.2555553629063493\n",
      "0.2503004512989933\n",
      "0.3140157027247459\n",
      "0.6517938266963968\n",
      "0.48781895228262334\n",
      "0.3682227494217318\n",
      "0.47575011545145734\n",
      "0.4733629773121384\n",
      "0.004178060933248744\n",
      "0.26914411325566434\n",
      "0.32867045055020555\n",
      "0.45907116274205856\n",
      "0.53289236533794\n",
      "0.45288752171551533\n",
      "0.4183177544707946\n",
      "0.06208388247265155\n",
      "0.49859907408587817\n",
      "0.4332622167212081\n",
      "0.4068141342494662\n",
      "0.450007861258409\n",
      "0.42906945446016026\n",
      "0.39752467781434386\n",
      "0.10530934711342252\n",
      "0.3795287567140686\n",
      "0.42503301580522107\n",
      "0.527419717378665\n",
      "0.48818148935288586\n",
      "0.46657479138491864\n",
      "0.26658805009692765\n",
      "0.37521928233083596\n",
      "0.5555166267675831\n",
      "0.41857867745835503\n",
      "0.4102214371262826\n",
      "0.45054003316381014\n",
      "0.36159000437700434\n",
      "0.6092044998001287\n",
      "0.34477413020057923\n",
      "0.4505948913666911\n",
      "0.47520871206977827\n",
      "0.22311221687547714\n",
      "0.5163434045319903\n",
      "3.24\n"
     ]
    }
   ],
   "source": [
    "square_side=1\n",
    "circle_rad=0.5\n",
    "\n",
    "import random\n",
    "from math import *\n",
    "# random.uniform(0,1)\n",
    "\n",
    "count=0\n",
    "n=100\n",
    "pi=0\n",
    "for i in range(n):\n",
    "    x=random.uniform(0,1)\n",
    "    y=random.uniform(0,1)\n",
    "    dist=sqrt(((circle_rad-x)**2)+(circle_rad-y)**2)\n",
    "    print(dist)\n",
    "    if dist < circle_rad:\n",
    "        count+=1\n",
    "    pi=count/(i+1)*4\n",
    "    \n",
    "print(pi)"
   ]
  },
  {
   "cell_type": "code",
   "execution_count": 8,
   "id": "8ee51387",
   "metadata": {},
   "outputs": [
    {
     "name": "stdout",
     "output_type": "stream",
     "text": [
      "[1, 3, 5, 7] [2, 4, 6, 8]\n"
     ]
    }
   ],
   "source": [
    "a=[1,2,3,4,5,6,7,8]\n",
    "odd=[]\n",
    "even=[]\n",
    "\n",
    "for i in range(len(a)):\n",
    "    if a[i]%2==0:\n",
    "        even.append(a[i])\n",
    "    else:\n",
    "        odd.append(a[i])\n",
    "        \n",
    "print(odd,even)"
   ]
  },
  {
   "cell_type": "code",
   "execution_count": 9,
   "id": "34ff583d",
   "metadata": {},
   "outputs": [
    {
     "name": "stdout",
     "output_type": "stream",
     "text": [
      "[]\n"
     ]
    }
   ],
   "source": [
    "a=[1,2,3,4,5,6,8]\n",
    "\n",
    "missing_arr=[]\n",
    "first=0\n",
    "i=0\n",
    "while i < len(a):\n",
    "    if first == a[i]:\n",
    "        missing_arr.append(first)\n",
    "        first+=1\n",
    "    else:\n",
    "        i+=1\n",
    "print(missing_arr)        "
   ]
  },
  {
   "cell_type": "code",
   "execution_count": 13,
   "id": "bb26e610",
   "metadata": {},
   "outputs": [
    {
     "name": "stdout",
     "output_type": "stream",
     "text": [
      "{1: 'present', 2: 'present', 3: 'present', 4: 'present', 5: 'present', 6: 'present', 8: 'present'}\n",
      "[0, 7]\n"
     ]
    }
   ],
   "source": [
    "d = {}\n",
    "a.sort()\n",
    "for i in range(len(a)):\n",
    "    d[a[i]]='present'\n",
    "    \n",
    "print(d)\n",
    "missing_arr=[]\n",
    "last=a[-1]\n",
    "for i in range(last):\n",
    "    if i not in d:\n",
    "        missing_arr.append(i)\n",
    "        \n",
    "print(missing_arr)"
   ]
  },
  {
   "cell_type": "code",
   "execution_count": 19,
   "id": "f3b1e242",
   "metadata": {},
   "outputs": [
    {
     "name": "stdout",
     "output_type": "stream",
     "text": [
      "9 12\n"
     ]
    }
   ],
   "source": [
    "\n",
    "l=[1,2,3,4,5,6]\n",
    "\n",
    "def posSum(l):\n",
    "    odd_t=0\n",
    "    even_t=0\n",
    "    for i in l:\n",
    "        if i%2==0:\n",
    "            even_t=even_t+i\n",
    "        else:\n",
    "            odd_t=odd_t+i\n",
    "    print(odd_t,even_t)\n",
    "posSum(l)"
   ]
  },
  {
   "cell_type": "code",
   "execution_count": null,
   "id": "8b0ce3ac",
   "metadata": {},
   "outputs": [],
   "source": []
  }
 ],
 "metadata": {
  "kernelspec": {
   "display_name": "Python 3 (ipykernel)",
   "language": "python",
   "name": "python3"
  },
  "language_info": {
   "codemirror_mode": {
    "name": "ipython",
    "version": 3
   },
   "file_extension": ".py",
   "mimetype": "text/x-python",
   "name": "python",
   "nbconvert_exporter": "python",
   "pygments_lexer": "ipython3",
   "version": "3.9.0"
  }
 },
 "nbformat": 4,
 "nbformat_minor": 5
}
