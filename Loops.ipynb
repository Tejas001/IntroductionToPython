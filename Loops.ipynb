{
 "cells": [
  {
   "cell_type": "code",
   "execution_count": 3,
   "id": "aa91e205",
   "metadata": {},
   "outputs": [
    {
     "name": "stdout",
     "output_type": "stream",
     "text": [
      "<class 'list'>\n",
      "<class 'list'>\n",
      "<class 'int'>\n",
      "<class 'str'>\n",
      "<class 'float'>\n"
     ]
    }
   ],
   "source": [
    "a=[[1,2],[3,4],5,'Hello',1.1]\n",
    "idx=0\n",
    "for i in a:\n",
    "    print(type(i))\n",
    "#     idx+=1"
   ]
  },
  {
   "cell_type": "code",
   "execution_count": 7,
   "id": "8918be37",
   "metadata": {},
   "outputs": [
    {
     "name": "stdout",
     "output_type": "stream",
     "text": [
      "<class 'list'>\n",
      "<class 'list'>\n",
      "<class 'int'>\n",
      "<class 'str'>\n",
      "<class 'float'>\n"
     ]
    }
   ],
   "source": [
    "for x in range(0,len(a)):\n",
    "#     print(x) # return index value\n",
    "    print(type(a[x])) # return array/list value"
   ]
  },
  {
   "cell_type": "code",
   "execution_count": 18,
   "id": "2b99a3b2",
   "metadata": {},
   "outputs": [
    {
     "name": "stdout",
     "output_type": "stream",
     "text": [
      "[1, 2, 3, 49]\n"
     ]
    }
   ],
   "source": [
    "# sorting array\n",
    "unsort=[2,3,49,1]\n",
    "\n",
    "for i in range(0,len(unsort)):\n",
    "    for j in range(0,len(unsort)):\n",
    "        left=unsort[i]\n",
    "        right=unsort[j]\n",
    "        if left < right:\n",
    "            temp=right\n",
    "            right=left\n",
    "            left=temp\n",
    "            unsort[i]=left\n",
    "            unsort[j]=right\n",
    "        elif left > right:\n",
    "            continue\n",
    "        else:\n",
    "            continue\n",
    "            \n",
    "print(unsort)"
   ]
  },
  {
   "cell_type": "code",
   "execution_count": 24,
   "id": "0b774e23",
   "metadata": {},
   "outputs": [
    {
     "name": "stdout",
     "output_type": "stream",
     "text": [
      "[1, 49, 50, 90]\n",
      "[90, 50, 49, 1]\n"
     ]
    }
   ],
   "source": [
    "# sorting array\n",
    "unsort=[50,90,49,1]\n",
    "unsort1=[50,90,49,1]\n",
    "for i in range(len(unsort)):\n",
    "    for j in range(len(unsort)):\n",
    "        if unsort[i] < unsort[j]:\n",
    "            unsort[i],unsort[j]=unsort[j],unsort[i]            \n",
    "print(unsort)\n",
    "print(sorted(unsort,reverse=True))"
   ]
  },
  {
   "cell_type": "code",
   "execution_count": 27,
   "id": "8a35e496",
   "metadata": {},
   "outputs": [
    {
     "name": "stdout",
     "output_type": "stream",
     "text": [
      "50\n",
      "90\n",
      "49\n",
      "1\n"
     ]
    }
   ],
   "source": [
    "i=0\n",
    "while i<len(unsort1):\n",
    "    print(unsort1[i])\n",
    "    i+=1"
   ]
  },
  {
   "cell_type": "code",
   "execution_count": null,
   "id": "930bc61c",
   "metadata": {},
   "outputs": [],
   "source": []
  }
 ],
 "metadata": {
  "kernelspec": {
   "display_name": "Python 3 (ipykernel)",
   "language": "python",
   "name": "python3"
  },
  "language_info": {
   "codemirror_mode": {
    "name": "ipython",
    "version": 3
   },
   "file_extension": ".py",
   "mimetype": "text/x-python",
   "name": "python",
   "nbconvert_exporter": "python",
   "pygments_lexer": "ipython3",
   "version": "3.9.0"
  }
 },
 "nbformat": 4,
 "nbformat_minor": 5
}
