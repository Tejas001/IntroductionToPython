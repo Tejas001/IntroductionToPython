{
 "cells": [
  {
   "cell_type": "code",
   "execution_count": 1,
   "id": "c92371d4",
   "metadata": {},
   "outputs": [
    {
     "name": "stdout",
     "output_type": "stream",
     "text": [
      "1\n",
      "2\n",
      "3\n",
      "4\n"
     ]
    }
   ],
   "source": [
    "# Iterable\n",
    "l=[1,2,3,4]\n",
    "for i in l:\n",
    "    print(i)"
   ]
  },
  {
   "cell_type": "code",
   "execution_count": 2,
   "id": "0ace2c7b",
   "metadata": {},
   "outputs": [
    {
     "name": "stdout",
     "output_type": "stream",
     "text": [
      "<list_iterator object at 0x0000019F963A1430>\n"
     ]
    }
   ],
   "source": [
    "v=iter(l)\n",
    "print(v)"
   ]
  },
  {
   "cell_type": "code",
   "execution_count": 3,
   "id": "65ea225b",
   "metadata": {},
   "outputs": [
    {
     "data": {
      "text/plain": [
       "1"
      ]
     },
     "execution_count": 3,
     "metadata": {},
     "output_type": "execute_result"
    }
   ],
   "source": [
    "v.__next__()"
   ]
  },
  {
   "cell_type": "code",
   "execution_count": 5,
   "id": "b55e6ff6",
   "metadata": {},
   "outputs": [
    {
     "name": "stdout",
     "output_type": "stream",
     "text": [
      "First\n",
      "1\n",
      "Second\n",
      "2\n",
      "Third\n",
      "3\n"
     ]
    },
    {
     "ename": "StopIteration",
     "evalue": "",
     "output_type": "error",
     "traceback": [
      "\u001b[1;31m---------------------------------------------------------------------------\u001b[0m",
      "\u001b[1;31mStopIteration\u001b[0m                             Traceback (most recent call last)",
      "\u001b[1;32m~\\AppData\\Local\\Temp/ipykernel_1444/1041459585.py\u001b[0m in \u001b[0;36m<module>\u001b[1;34m\u001b[0m\n\u001b[0;32m     16\u001b[0m \u001b[0mprint\u001b[0m\u001b[1;33m(\u001b[0m\u001b[0mnext\u001b[0m\u001b[1;33m(\u001b[0m\u001b[0mfunc\u001b[0m\u001b[1;33m)\u001b[0m\u001b[1;33m)\u001b[0m\u001b[1;33m\u001b[0m\u001b[1;33m\u001b[0m\u001b[0m\n\u001b[0;32m     17\u001b[0m \u001b[0mprint\u001b[0m\u001b[1;33m(\u001b[0m\u001b[0mnext\u001b[0m\u001b[1;33m(\u001b[0m\u001b[0mfunc\u001b[0m\u001b[1;33m)\u001b[0m\u001b[1;33m)\u001b[0m\u001b[1;33m\u001b[0m\u001b[1;33m\u001b[0m\u001b[0m\n\u001b[1;32m---> 18\u001b[1;33m \u001b[0mprint\u001b[0m\u001b[1;33m(\u001b[0m\u001b[0mnext\u001b[0m\u001b[1;33m(\u001b[0m\u001b[0mfunc\u001b[0m\u001b[1;33m)\u001b[0m\u001b[1;33m)\u001b[0m\u001b[1;33m\u001b[0m\u001b[1;33m\u001b[0m\u001b[0m\n\u001b[0m",
      "\u001b[1;31mStopIteration\u001b[0m: "
     ]
    }
   ],
   "source": [
    "# Generator\n",
    "def my_gen():\n",
    "    n=1\n",
    "    print('First')\n",
    "    yield n\n",
    "    \n",
    "    n+=1\n",
    "    print('Second')\n",
    "    yield n\n",
    "    \n",
    "    n+=1\n",
    "    print('Third')\n",
    "    yield n\n",
    "    \n",
    "func=my_gen()\n",
    "print(next(func))\n",
    "print(next(func))\n",
    "print(next(func))\n",
    "print(next(func))"
   ]
  },
  {
   "cell_type": "code",
   "execution_count": 8,
   "id": "e6a95bdc",
   "metadata": {},
   "outputs": [
    {
     "name": "stdout",
     "output_type": "stream",
     "text": [
      "Hello Closure\n"
     ]
    }
   ],
   "source": [
    "# Closure\n",
    "def closuree(msg):\n",
    "    \n",
    "    def printer():\n",
    "        print(msg)\n",
    "        \n",
    "    printer()\n",
    "    \n",
    "closuree('Hello Closure')"
   ]
  },
  {
   "cell_type": "code",
   "execution_count": 15,
   "id": "6660569e",
   "metadata": {},
   "outputs": [
    {
     "name": "stdout",
     "output_type": "stream",
     "text": [
      "Addition 4\n",
      "subtraction 0\n",
      "multiplication 4\n"
     ]
    }
   ],
   "source": [
    "def arthmatic(a,b):\n",
    "    \n",
    "    def addition():\n",
    "        print('Addition',a+b)\n",
    "    def subtraction():\n",
    "        print('subtraction',a-b)\n",
    "    def multiplication():\n",
    "        print('multiplication',a*b)\n",
    "            \n",
    "    \n",
    "    \n",
    "    addition()\n",
    "    subtraction()\n",
    "    multiplication()\n",
    "    \n",
    "arthmatic(2,2)"
   ]
  },
  {
   "cell_type": "code",
   "execution_count": 16,
   "id": "975fb669",
   "metadata": {},
   "outputs": [
    {
     "name": "stdout",
     "output_type": "stream",
     "text": [
      "Executing printer Function\n",
      "Hello 2022\n",
      "Finished\n"
     ]
    }
   ],
   "source": [
    "# Decorator\n",
    "def printer():\n",
    "    print('Hello 2022')\n",
    "    \n",
    "def display(func):\n",
    "    def inner():\n",
    "        print('Executing',func.__name__,'Function')\n",
    "        func()\n",
    "        print('Finished')\n",
    "        \n",
    "    return inner\n",
    "\n",
    "n=display(printer)\n",
    "n()"
   ]
  },
  {
   "cell_type": "code",
   "execution_count": 21,
   "id": "80954ba9",
   "metadata": {},
   "outputs": [
    {
     "name": "stdout",
     "output_type": "stream",
     "text": [
      "Executing printer Function\n",
      "Hello 2022 year\n",
      "Finished\n"
     ]
    }
   ],
   "source": [
    "# Decorator  \n",
    "def display(func):\n",
    "    def inner(a):\n",
    "        print('Executing',func.__name__,'Function')\n",
    "        func(a)\n",
    "        print('Finished')\n",
    "        \n",
    "    return inner\n",
    "\n",
    "@display\n",
    "def printer(a):\n",
    "    print('Hello 2022',a)\n",
    "\n",
    "printer('year')"
   ]
  },
  {
   "cell_type": "code",
   "execution_count": null,
   "id": "939893fe",
   "metadata": {},
   "outputs": [],
   "source": []
  }
 ],
 "metadata": {
  "kernelspec": {
   "display_name": "Python 3 (ipykernel)",
   "language": "python",
   "name": "python3"
  },
  "language_info": {
   "codemirror_mode": {
    "name": "ipython",
    "version": 3
   },
   "file_extension": ".py",
   "mimetype": "text/x-python",
   "name": "python",
   "nbconvert_exporter": "python",
   "pygments_lexer": "ipython3",
   "version": "3.9.0"
  }
 },
 "nbformat": 4,
 "nbformat_minor": 5
}
