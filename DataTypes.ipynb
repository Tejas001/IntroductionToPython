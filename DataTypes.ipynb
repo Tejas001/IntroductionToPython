{
 "cells": [
  {
   "cell_type": "markdown",
   "id": "8944006f",
   "metadata": {},
   "source": [
    "# Strings"
   ]
  },
  {
   "cell_type": "code",
   "execution_count": 15,
   "id": "d424ca9d",
   "metadata": {},
   "outputs": [
    {
     "name": "stdout",
     "output_type": "stream",
     "text": [
      "Starting ending\n"
     ]
    }
   ],
   "source": [
    "a='Starting'\n",
    "b='ending'\n",
    "print(a+\" \"+b)"
   ]
  },
  {
   "cell_type": "code",
   "execution_count": 17,
   "id": "93cc8c87",
   "metadata": {},
   "outputs": [
    {
     "name": "stdout",
     "output_type": "stream",
     "text": [
      "Matched\n"
     ]
    }
   ],
   "source": [
    "if 'start' in a.lower():\n",
    "    print('Matched')"
   ]
  },
  {
   "cell_type": "code",
   "execution_count": 20,
   "id": "67c8dd7b",
   "metadata": {},
   "outputs": [
    {
     "name": "stdout",
     "output_type": "stream",
     "text": [
      "Tejas chougul\n"
     ]
    }
   ],
   "source": [
    "slicing='Tejas chougule'\n",
    "print(slicing[:-1])"
   ]
  },
  {
   "cell_type": "code",
   "execution_count": 21,
   "id": "9473525f",
   "metadata": {},
   "outputs": [
    {
     "name": "stdout",
     "output_type": "stream",
     "text": [
      " chougule\n"
     ]
    }
   ],
   "source": [
    "slicing='Tejas chougule'\n",
    "print(slicing[5:])"
   ]
  },
  {
   "cell_type": "code",
   "execution_count": 25,
   "id": "c78e5ce0",
   "metadata": {},
   "outputs": [
    {
     "name": "stdout",
     "output_type": "stream",
     "text": [
      "eluguohc sajeT\n"
     ]
    }
   ],
   "source": [
    "slicing='Tejas chougule'\n",
    "print(slicing[::-1])"
   ]
  },
  {
   "cell_type": "code",
   "execution_count": 27,
   "id": "f925513b",
   "metadata": {},
   "outputs": [
    {
     "name": "stdout",
     "output_type": "stream",
     "text": [
      "e\n"
     ]
    }
   ],
   "source": [
    "slicing='Tejas chougule'\n",
    "print(slicing[-1:])"
   ]
  },
  {
   "cell_type": "code",
   "execution_count": 30,
   "id": "5117e8d5",
   "metadata": {},
   "outputs": [
    {
     "ename": "AttributeError",
     "evalue": "'str' object has no attribute 'capitialize'",
     "output_type": "error",
     "traceback": [
      "\u001b[1;31m---------------------------------------------------------------------------\u001b[0m",
      "\u001b[1;31mAttributeError\u001b[0m                            Traceback (most recent call last)",
      "\u001b[1;32m~\\AppData\\Local\\Temp/ipykernel_304/2866561207.py\u001b[0m in \u001b[0;36m<module>\u001b[1;34m\u001b[0m\n\u001b[1;32m----> 1\u001b[1;33m \u001b[0mslicing\u001b[0m\u001b[1;33m.\u001b[0m\u001b[0mupper\u001b[0m\u001b[1;33m(\u001b[0m\u001b[1;33m)\u001b[0m\u001b[1;33m,\u001b[0m\u001b[0mslicing\u001b[0m\u001b[1;33m.\u001b[0m\u001b[0mlower\u001b[0m\u001b[1;33m(\u001b[0m\u001b[1;33m)\u001b[0m\u001b[1;33m,\u001b[0m\u001b[0mslicing\u001b[0m\u001b[1;33m.\u001b[0m\u001b[0mcapitialize\u001b[0m\u001b[1;33m(\u001b[0m\u001b[1;33m)\u001b[0m\u001b[1;33m,\u001b[0m\u001b[1;33m\u001b[0m\u001b[1;33m\u001b[0m\u001b[0m\n\u001b[0m",
      "\u001b[1;31mAttributeError\u001b[0m: 'str' object has no attribute 'capitialize'"
     ]
    }
   ],
   "source": [
    "slicing.upper(),slicing.lower(),"
   ]
  },
  {
   "cell_type": "code",
   "execution_count": 31,
   "id": "e40848be",
   "metadata": {},
   "outputs": [
    {
     "data": {
      "text/plain": [
       "'TEJAS chougule'"
      ]
     },
     "execution_count": 31,
     "metadata": {},
     "output_type": "execute_result"
    }
   ],
   "source": [
    "slicing.replace('Tejas','Tejas'.upper())"
   ]
  },
  {
   "cell_type": "code",
   "execution_count": 32,
   "id": "676b75ff",
   "metadata": {},
   "outputs": [
    {
     "data": {
      "text/plain": [
       "'Tejas Chougule'"
      ]
     },
     "execution_count": 32,
     "metadata": {},
     "output_type": "execute_result"
    }
   ],
   "source": [
    "slicing.title()"
   ]
  },
  {
   "cell_type": "code",
   "execution_count": 34,
   "id": "38d2c8dc",
   "metadata": {},
   "outputs": [
    {
     "data": {
      "text/plain": [
       "'Tejas Chougule'"
      ]
     },
     "execution_count": 34,
     "metadata": {},
     "output_type": "execute_result"
    }
   ],
   "source": [
    "slicing.replace('chougule','chougule'.title())"
   ]
  },
  {
   "cell_type": "code",
   "execution_count": 35,
   "id": "5e01501d",
   "metadata": {},
   "outputs": [
    {
     "data": {
      "text/plain": [
       "'Tejas chougule'"
      ]
     },
     "execution_count": 35,
     "metadata": {},
     "output_type": "execute_result"
    }
   ],
   "source": [
    "slicing"
   ]
  },
  {
   "cell_type": "code",
   "execution_count": 40,
   "id": "8552c77f",
   "metadata": {},
   "outputs": [
    {
     "name": "stdout",
     "output_type": "stream",
     "text": [
      "   Tejas Chougule   \n",
      "Tejas Chougule\n"
     ]
    }
   ],
   "source": [
    "spaces='   Tejas Chougule   '\n",
    "print(spaces)\n",
    "print(spaces.strip(' '))"
   ]
  },
  {
   "cell_type": "markdown",
   "id": "1abba75d",
   "metadata": {},
   "source": [
    "# Lists"
   ]
  },
  {
   "cell_type": "code",
   "execution_count": 43,
   "id": "242912d7",
   "metadata": {},
   "outputs": [
    {
     "name": "stdout",
     "output_type": "stream",
     "text": [
      "<class 'list'>\n",
      "<class 'list'>\n",
      "<class 'list'>\n"
     ]
    }
   ],
   "source": [
    "a=[]\n",
    "b=list()\n",
    "c=[1,2,3]\n",
    "print(type(a))\n",
    "print(type(b))\n",
    "print(type(c))\n"
   ]
  },
  {
   "cell_type": "code",
   "execution_count": 46,
   "id": "bb8c1147",
   "metadata": {},
   "outputs": [
    {
     "name": "stdout",
     "output_type": "stream",
     "text": [
      "[[1, 2, 3], True, 'Tejas', 1.2]\n"
     ]
    }
   ],
   "source": [
    "mixed=[[1,2,3],True,'Tejas',1.2]\n",
    "print(mixed)"
   ]
  },
  {
   "cell_type": "code",
   "execution_count": 49,
   "id": "e3f6c9c1",
   "metadata": {},
   "outputs": [
    {
     "name": "stdout",
     "output_type": "stream",
     "text": [
      "j\n"
     ]
    }
   ],
   "source": [
    "print(mixed[2][2])"
   ]
  },
  {
   "cell_type": "code",
   "execution_count": 50,
   "id": "5c80a710",
   "metadata": {},
   "outputs": [
    {
     "name": "stdout",
     "output_type": "stream",
     "text": [
      "[[1, 2, 3], True, 'Tejas', 1.2, 1, 2, 3]\n"
     ]
    }
   ],
   "source": [
    "print(mixed+c)"
   ]
  },
  {
   "cell_type": "code",
   "execution_count": 51,
   "id": "50a591b2",
   "metadata": {},
   "outputs": [],
   "source": [
    "c.append([4,5,6])"
   ]
  },
  {
   "cell_type": "code",
   "execution_count": 54,
   "id": "073a7a9b",
   "metadata": {},
   "outputs": [],
   "source": [
    "c.extend([4,5,6])"
   ]
  },
  {
   "cell_type": "code",
   "execution_count": 56,
   "id": "07a89717",
   "metadata": {},
   "outputs": [
    {
     "data": {
      "text/plain": [
       "[1, 2, 3, 4, 5, 6]"
      ]
     },
     "execution_count": 56,
     "metadata": {},
     "output_type": "execute_result"
    }
   ],
   "source": [
    "c.remove([4,5,6])\n",
    "c"
   ]
  },
  {
   "cell_type": "code",
   "execution_count": 57,
   "id": "74617977",
   "metadata": {},
   "outputs": [
    {
     "data": {
      "text/plain": [
       "[1, 2, 3, [4, 5, 6], 4, 5, 6]"
      ]
     },
     "execution_count": 57,
     "metadata": {},
     "output_type": "execute_result"
    }
   ],
   "source": [
    "c.insert(3,[4,5,6])\n",
    "c"
   ]
  },
  {
   "cell_type": "code",
   "execution_count": 58,
   "id": "02ae941f",
   "metadata": {},
   "outputs": [
    {
     "data": {
      "text/plain": [
       "[1, 2, 3, 4, 5, 6]"
      ]
     },
     "execution_count": 58,
     "metadata": {},
     "output_type": "execute_result"
    }
   ],
   "source": [
    "del c[3]\n",
    "c"
   ]
  },
  {
   "cell_type": "code",
   "execution_count": 63,
   "id": "c799c28f",
   "metadata": {},
   "outputs": [
    {
     "name": "stdout",
     "output_type": "stream",
     "text": [
      "[1, 2, 3]\n",
      "True\n",
      "Tejas\n",
      "1.2\n"
     ]
    }
   ],
   "source": [
    "for i in mixed:\n",
    "    print(i)"
   ]
  },
  {
   "cell_type": "code",
   "execution_count": 71,
   "id": "1face989",
   "metadata": {},
   "outputs": [
    {
     "data": {
      "text/plain": [
       "[6, 5, 4, 3, 2, 1]"
      ]
     },
     "execution_count": 71,
     "metadata": {},
     "output_type": "execute_result"
    }
   ],
   "source": [
    "c.sort(reverse=True)\n",
    "c"
   ]
  },
  {
   "cell_type": "code",
   "execution_count": 72,
   "id": "825eefd3",
   "metadata": {},
   "outputs": [
    {
     "data": {
      "text/plain": [
       "[1, 2, 3, 4, 5, 6]"
      ]
     },
     "execution_count": 72,
     "metadata": {},
     "output_type": "execute_result"
    }
   ],
   "source": [
    "c.sort()\n",
    "c\n"
   ]
  },
  {
   "cell_type": "code",
   "execution_count": 73,
   "id": "da72e127",
   "metadata": {},
   "outputs": [
    {
     "data": {
      "text/plain": [
       "[6, 5, 4, 3, 2, 1]"
      ]
     },
     "execution_count": 73,
     "metadata": {},
     "output_type": "execute_result"
    }
   ],
   "source": [
    "c.reverse()\n",
    "c"
   ]
  },
  {
   "cell_type": "code",
   "execution_count": 74,
   "id": "d8040a13",
   "metadata": {},
   "outputs": [
    {
     "name": "stdout",
     "output_type": "stream",
     "text": [
      "[6, 5, 4, 3, 2, 1]\n"
     ]
    }
   ],
   "source": [
    "d=c.copy()\n",
    "print(d)"
   ]
  },
  {
   "cell_type": "code",
   "execution_count": 75,
   "id": "de53b902",
   "metadata": {},
   "outputs": [
    {
     "data": {
      "text/plain": [
       "1"
      ]
     },
     "execution_count": 75,
     "metadata": {},
     "output_type": "execute_result"
    }
   ],
   "source": [
    "d.count(1)"
   ]
  },
  {
   "cell_type": "markdown",
   "id": "f7bb4f5f",
   "metadata": {},
   "source": [
    "# Tuple"
   ]
  },
  {
   "cell_type": "code",
   "execution_count": 76,
   "id": "cac8699e",
   "metadata": {},
   "outputs": [
    {
     "data": {
      "text/plain": [
       "tuple"
      ]
     },
     "execution_count": 76,
     "metadata": {},
     "output_type": "execute_result"
    }
   ],
   "source": [
    "t=()\n",
    "type(t)"
   ]
  },
  {
   "cell_type": "code",
   "execution_count": 77,
   "id": "97f796e6",
   "metadata": {},
   "outputs": [
    {
     "data": {
      "text/plain": [
       "tuple"
      ]
     },
     "execution_count": 77,
     "metadata": {},
     "output_type": "execute_result"
    }
   ],
   "source": [
    "tp=('item',)\n",
    "type(tp)"
   ]
  },
  {
   "cell_type": "code",
   "execution_count": 78,
   "id": "e79dc978",
   "metadata": {},
   "outputs": [
    {
     "data": {
      "text/plain": [
       "[1, 2, 3, 4]"
      ]
     },
     "execution_count": 78,
     "metadata": {},
     "output_type": "execute_result"
    }
   ],
   "source": [
    "tuples=(1,2,3,4)\n",
    "lists=list(tuples)\n",
    "lists"
   ]
  },
  {
   "cell_type": "code",
   "execution_count": 80,
   "id": "a48af7ea",
   "metadata": {},
   "outputs": [
    {
     "data": {
      "text/plain": [
       "[0, 2, 3, 4]"
      ]
     },
     "execution_count": 80,
     "metadata": {},
     "output_type": "execute_result"
    }
   ],
   "source": [
    "lists[0]=0\n",
    "lists"
   ]
  },
  {
   "cell_type": "code",
   "execution_count": 81,
   "id": "5f5554a0",
   "metadata": {},
   "outputs": [
    {
     "data": {
      "text/plain": [
       "(0, 2, 3, 4)"
      ]
     },
     "execution_count": 81,
     "metadata": {},
     "output_type": "execute_result"
    }
   ],
   "source": [
    "tuples=tuple(lists)\n",
    "tuples"
   ]
  },
  {
   "cell_type": "code",
   "execution_count": 86,
   "id": "a1f136b2",
   "metadata": {},
   "outputs": [
    {
     "name": "stdout",
     "output_type": "stream",
     "text": [
      "0\n",
      "[2, 3, 4]\n"
     ]
    }
   ],
   "source": [
    "(zero, *two)=tuples\n",
    "print(zero)\n",
    "print(two)"
   ]
  },
  {
   "cell_type": "code",
   "execution_count": 87,
   "id": "468023c7",
   "metadata": {},
   "outputs": [
    {
     "data": {
      "text/plain": [
       "('item', 0, 2, 3, 4)"
      ]
     },
     "execution_count": 87,
     "metadata": {},
     "output_type": "execute_result"
    }
   ],
   "source": [
    "tp+tuples"
   ]
  },
  {
   "cell_type": "code",
   "execution_count": 89,
   "id": "0da200e0",
   "metadata": {},
   "outputs": [
    {
     "data": {
      "text/plain": [
       "[4, 3, 2, 0]"
      ]
     },
     "execution_count": 89,
     "metadata": {},
     "output_type": "execute_result"
    }
   ],
   "source": [
    "lists.sort(reverse=True)\n",
    "lists"
   ]
  },
  {
   "cell_type": "code",
   "execution_count": 90,
   "id": "32adad13",
   "metadata": {},
   "outputs": [
    {
     "data": {
      "text/plain": [
       "[0, 2, 3, 4]"
      ]
     },
     "execution_count": 90,
     "metadata": {},
     "output_type": "execute_result"
    }
   ],
   "source": [
    "l_new=sorted(lists)\n",
    "l_new"
   ]
  },
  {
   "cell_type": "markdown",
   "id": "9fc7df60",
   "metadata": {},
   "source": [
    "# Dictionary"
   ]
  },
  {
   "cell_type": "code",
   "execution_count": 98,
   "id": "accb7edf",
   "metadata": {},
   "outputs": [
    {
     "name": "stdout",
     "output_type": "stream",
     "text": [
      "<class 'dict'>\n",
      "<class 'dict'> {'age': [27, 18], 'name': 'Tejas'}\n"
     ]
    }
   ],
   "source": [
    "dt=dict()\n",
    "print(type(dt))\n",
    "d={\n",
    "    'age':[27,18],\n",
    "    'name':'Tejas'\n",
    "    \n",
    "}\n",
    "print(type(d),d)"
   ]
  },
  {
   "cell_type": "code",
   "execution_count": 99,
   "id": "7bd65fdd",
   "metadata": {},
   "outputs": [
    {
     "data": {
      "text/plain": [
       "[27, 18]"
      ]
     },
     "execution_count": 99,
     "metadata": {},
     "output_type": "execute_result"
    }
   ],
   "source": [
    "d.get('age')"
   ]
  },
  {
   "cell_type": "code",
   "execution_count": 101,
   "id": "190cb432",
   "metadata": {},
   "outputs": [
    {
     "data": {
      "text/plain": [
       "[27, 18]"
      ]
     },
     "execution_count": 101,
     "metadata": {},
     "output_type": "execute_result"
    }
   ],
   "source": [
    "d['age']"
   ]
  },
  {
   "cell_type": "code",
   "execution_count": 102,
   "id": "dafcc27f",
   "metadata": {},
   "outputs": [
    {
     "data": {
      "text/plain": [
       "dict_keys(['age', 'name'])"
      ]
     },
     "execution_count": 102,
     "metadata": {},
     "output_type": "execute_result"
    }
   ],
   "source": [
    "d.keys()"
   ]
  },
  {
   "cell_type": "code",
   "execution_count": 103,
   "id": "a0fa88d9",
   "metadata": {},
   "outputs": [
    {
     "data": {
      "text/plain": [
       "dict_values([[27, 18], 'Tejas'])"
      ]
     },
     "execution_count": 103,
     "metadata": {},
     "output_type": "execute_result"
    }
   ],
   "source": [
    "d.values()"
   ]
  },
  {
   "cell_type": "code",
   "execution_count": 104,
   "id": "0b0cccf1",
   "metadata": {},
   "outputs": [
    {
     "data": {
      "text/plain": [
       "True"
      ]
     },
     "execution_count": 104,
     "metadata": {},
     "output_type": "execute_result"
    }
   ],
   "source": [
    "'age' in d"
   ]
  },
  {
   "cell_type": "code",
   "execution_count": 105,
   "id": "4aff7f90",
   "metadata": {},
   "outputs": [
    {
     "data": {
      "text/plain": [
       "dict_items([('age', [27, 18]), ('name', 'Tejas')])"
      ]
     },
     "execution_count": 105,
     "metadata": {},
     "output_type": "execute_result"
    }
   ],
   "source": [
    "d.items()"
   ]
  },
  {
   "cell_type": "code",
   "execution_count": 109,
   "id": "4222ad62",
   "metadata": {},
   "outputs": [
    {
     "name": "stdout",
     "output_type": "stream",
     "text": [
      "age [27, 18]\n",
      "name Tejas\n"
     ]
    }
   ],
   "source": [
    "for k,v in d.items():\n",
    "    print(k,v)"
   ]
  },
  {
   "cell_type": "code",
   "execution_count": 110,
   "id": "0f3bf08f",
   "metadata": {},
   "outputs": [
    {
     "name": "stdout",
     "output_type": "stream",
     "text": [
      "age\n",
      "name\n"
     ]
    }
   ],
   "source": [
    "for k in d.keys():\n",
    "    print(k)"
   ]
  },
  {
   "cell_type": "code",
   "execution_count": 111,
   "id": "3d92598a",
   "metadata": {},
   "outputs": [
    {
     "data": {
      "text/plain": [
       "{'age': [27, 18], 'name': 'Tejas', 'dob': 17051994}"
      ]
     },
     "execution_count": 111,
     "metadata": {},
     "output_type": "execute_result"
    }
   ],
   "source": [
    "d['dob']=17051994\n",
    "d"
   ]
  },
  {
   "cell_type": "code",
   "execution_count": 112,
   "id": "bae1972f",
   "metadata": {},
   "outputs": [
    {
     "data": {
      "text/plain": [
       "{'age': [27, 18], 'name': 'Tejas', 'dob': 17051994, 'fruit': ['apple', 'kiwi']}"
      ]
     },
     "execution_count": 112,
     "metadata": {},
     "output_type": "execute_result"
    }
   ],
   "source": [
    "d.update({'fruit':['apple','kiwi']})\n",
    "d"
   ]
  },
  {
   "cell_type": "code",
   "execution_count": 113,
   "id": "a9540e8d",
   "metadata": {},
   "outputs": [
    {
     "data": {
      "text/plain": [
       "'apple'"
      ]
     },
     "execution_count": 113,
     "metadata": {},
     "output_type": "execute_result"
    }
   ],
   "source": [
    "d['fruit'][0]"
   ]
  },
  {
   "cell_type": "code",
   "execution_count": 114,
   "id": "f2163a45",
   "metadata": {},
   "outputs": [
    {
     "data": {
      "text/plain": [
       "{'age': [27, 18], 'name': 'Tejas', 'fruit': ['apple', 'kiwi']}"
      ]
     },
     "execution_count": 114,
     "metadata": {},
     "output_type": "execute_result"
    }
   ],
   "source": [
    "del d['dob']\n",
    "d"
   ]
  },
  {
   "cell_type": "code",
   "execution_count": 115,
   "id": "e04cbbf5",
   "metadata": {},
   "outputs": [
    {
     "data": {
      "text/plain": [
       "{'age': [27, 18], 'name': 'Tejas'}"
      ]
     },
     "execution_count": 115,
     "metadata": {},
     "output_type": "execute_result"
    }
   ],
   "source": [
    "d.pop('fruit')\n",
    "d"
   ]
  },
  {
   "cell_type": "code",
   "execution_count": 116,
   "id": "86019216",
   "metadata": {},
   "outputs": [
    {
     "name": "stdout",
     "output_type": "stream",
     "text": [
      "{'age': [27, 18], 'name': 'Tejas'}\n"
     ]
    }
   ],
   "source": [
    "d_new=d.copy()\n",
    "print(d_new)"
   ]
  },
  {
   "cell_type": "code",
   "execution_count": 117,
   "id": "148e7095",
   "metadata": {},
   "outputs": [
    {
     "data": {
      "text/plain": [
       "{'age': [27, 18], 'name': 'Tejas', 'dob': 17051994}"
      ]
     },
     "execution_count": 117,
     "metadata": {},
     "output_type": "execute_result"
    }
   ],
   "source": [
    "d['dob']=17051994\n",
    "d"
   ]
  },
  {
   "cell_type": "code",
   "execution_count": 118,
   "id": "21a18a26",
   "metadata": {},
   "outputs": [
    {
     "data": {
      "text/plain": [
       "{'age': [27, 18], 'name': 'Tejas'}"
      ]
     },
     "execution_count": 118,
     "metadata": {},
     "output_type": "execute_result"
    }
   ],
   "source": [
    "d_new"
   ]
  },
  {
   "cell_type": "code",
   "execution_count": 120,
   "id": "b17dbd7e",
   "metadata": {},
   "outputs": [
    {
     "data": {
      "text/plain": [
       "{'age': [27, 18], 'name': 'Tejas', 'dob': 17051994, 'fruit': {'small': 'kiwi'}}"
      ]
     },
     "execution_count": 120,
     "metadata": {},
     "output_type": "execute_result"
    }
   ],
   "source": [
    "d.update({'fruit':{'small':'kiwi'}})\n",
    "d"
   ]
  },
  {
   "cell_type": "markdown",
   "id": "24008f68",
   "metadata": {},
   "source": [
    "# Sets"
   ]
  },
  {
   "cell_type": "code",
   "execution_count": 124,
   "id": "2b7e433d",
   "metadata": {},
   "outputs": [
    {
     "name": "stdout",
     "output_type": "stream",
     "text": [
      "{1, 2, 3, 4}\n"
     ]
    }
   ],
   "source": [
    "s=set({1,2,3,3,4})\n",
    "print(s)"
   ]
  },
  {
   "cell_type": "code",
   "execution_count": 126,
   "id": "ef498ac2",
   "metadata": {},
   "outputs": [
    {
     "data": {
      "text/plain": [
       "{1, 2, 3, 4, 'True'}"
      ]
     },
     "execution_count": 126,
     "metadata": {},
     "output_type": "execute_result"
    }
   ],
   "source": [
    "s.add('True')\n",
    "s"
   ]
  },
  {
   "cell_type": "code",
   "execution_count": 129,
   "id": "f774bc5e",
   "metadata": {},
   "outputs": [
    {
     "data": {
      "text/plain": [
       "{1, 2, 3, 4}"
      ]
     },
     "execution_count": 129,
     "metadata": {},
     "output_type": "execute_result"
    }
   ],
   "source": [
    "s.discard('True')\n",
    "s"
   ]
  },
  {
   "cell_type": "code",
   "execution_count": 130,
   "id": "8c4dcf47",
   "metadata": {},
   "outputs": [],
   "source": [
    "s2={1,2,5,6}"
   ]
  },
  {
   "cell_type": "code",
   "execution_count": 131,
   "id": "58a5233e",
   "metadata": {},
   "outputs": [],
   "source": [
    "s1=s.union(s2)"
   ]
  },
  {
   "cell_type": "code",
   "execution_count": 132,
   "id": "bb1eef51",
   "metadata": {},
   "outputs": [
    {
     "data": {
      "text/plain": [
       "{1, 2, 3, 4, 5, 6}"
      ]
     },
     "execution_count": 132,
     "metadata": {},
     "output_type": "execute_result"
    }
   ],
   "source": [
    "s1"
   ]
  },
  {
   "cell_type": "code",
   "execution_count": 133,
   "id": "a3e10ae8",
   "metadata": {},
   "outputs": [
    {
     "data": {
      "text/plain": [
       "{1, 2}"
      ]
     },
     "execution_count": 133,
     "metadata": {},
     "output_type": "execute_result"
    }
   ],
   "source": [
    "s.intersection(s2)"
   ]
  },
  {
   "cell_type": "markdown",
   "id": "3c0091ae",
   "metadata": {},
   "source": [
    "# List Comprehension"
   ]
  },
  {
   "cell_type": "code",
   "execution_count": 134,
   "id": "08117cb5",
   "metadata": {},
   "outputs": [
    {
     "name": "stdout",
     "output_type": "stream",
     "text": [
      "1\n",
      "2\n",
      "3\n",
      "4\n",
      "5\n",
      "6\n"
     ]
    }
   ],
   "source": [
    "l=[1,2,3,4,5,6]\n",
    "for i in l:\n",
    "    print(i)"
   ]
  },
  {
   "cell_type": "code",
   "execution_count": 135,
   "id": "97815a14",
   "metadata": {},
   "outputs": [
    {
     "name": "stdout",
     "output_type": "stream",
     "text": [
      "[1, 2, 3, 4, 5, 6]\n"
     ]
    }
   ],
   "source": [
    "l_new=[i for i in l]\n",
    "print(l_new)"
   ]
  },
  {
   "cell_type": "code",
   "execution_count": 136,
   "id": "20095fa9",
   "metadata": {},
   "outputs": [
    {
     "data": {
      "text/plain": [
       "[0, 2, 4, 6, 8, 10, 12, 14, 16, 18]"
      ]
     },
     "execution_count": 136,
     "metadata": {},
     "output_type": "execute_result"
    }
   ],
   "source": [
    "l1=[x for x in range(20) if x%2==0]\n",
    "l1"
   ]
  },
  {
   "cell_type": "code",
   "execution_count": 137,
   "id": "9f8a9ab9",
   "metadata": {},
   "outputs": [
    {
     "data": {
      "text/plain": [
       "['Even',\n",
       " 'Odd',\n",
       " 'Even',\n",
       " 'Odd',\n",
       " 'Even',\n",
       " 'Odd',\n",
       " 'Even',\n",
       " 'Odd',\n",
       " 'Even',\n",
       " 'Odd',\n",
       " 'Even',\n",
       " 'Odd',\n",
       " 'Even',\n",
       " 'Odd',\n",
       " 'Even',\n",
       " 'Odd',\n",
       " 'Even',\n",
       " 'Odd',\n",
       " 'Even',\n",
       " 'Odd']"
      ]
     },
     "execution_count": 137,
     "metadata": {},
     "output_type": "execute_result"
    }
   ],
   "source": [
    "l2=['Even' if x%2==0 else \"Odd\" for x in range(20) ]\n",
    "l2"
   ]
  },
  {
   "cell_type": "code",
   "execution_count": null,
   "id": "3e024e9c",
   "metadata": {},
   "outputs": [],
   "source": []
  }
 ],
 "metadata": {
  "kernelspec": {
   "display_name": "Python 3 (ipykernel)",
   "language": "python",
   "name": "python3"
  },
  "language_info": {
   "codemirror_mode": {
    "name": "ipython",
    "version": 3
   },
   "file_extension": ".py",
   "mimetype": "text/x-python",
   "name": "python",
   "nbconvert_exporter": "python",
   "pygments_lexer": "ipython3",
   "version": "3.9.0"
  }
 },
 "nbformat": 4,
 "nbformat_minor": 5
}
