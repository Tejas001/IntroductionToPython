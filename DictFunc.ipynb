{
 "cells": [
  {
   "cell_type": "markdown",
   "id": "b27cc81b",
   "metadata": {},
   "source": [
    "# Functions"
   ]
  },
  {
   "cell_type": "code",
   "execution_count": 17,
   "id": "c989ca27",
   "metadata": {},
   "outputs": [
    {
     "name": "stdout",
     "output_type": "stream",
     "text": [
      "6\n"
     ]
    }
   ],
   "source": [
    "def someFunc(x,y,z):\n",
    "    summ=x+y+z\n",
    "    return summ\n",
    "\n",
    "out_func=someFunc(1,2,3)\n",
    "print(out_func)\n"
   ]
  },
  {
   "cell_type": "code",
   "execution_count": 10,
   "id": "2a7e509a",
   "metadata": {},
   "outputs": [
    {
     "name": "stdout",
     "output_type": "stream",
     "text": [
      "6\n"
     ]
    }
   ],
   "source": [
    "class test:\n",
    "    def __init__(self,x,y,z):\n",
    "        self.x=x\n",
    "        self.y=y\n",
    "        self.z=z\n",
    "    \n",
    "    def add(self):\n",
    "        return self.x+self.y+self.z\n",
    "    \n",
    "out1=test(1,2,3).add()\n",
    "print(out1)"
   ]
  },
  {
   "cell_type": "code",
   "execution_count": 18,
   "id": "0b25f54b",
   "metadata": {},
   "outputs": [
    {
     "data": {
      "text/plain": [
       "8"
      ]
     },
     "execution_count": 18,
     "metadata": {},
     "output_type": "execute_result"
    }
   ],
   "source": [
    "def add(a,b):\n",
    "    return a+b\n",
    "\n",
    "def sub(a,b):\n",
    "    return a-b\n",
    "\n",
    "def mul(a,b):\n",
    "    return a*b\n",
    "\n",
    "def div(a,b):\n",
    "    return a/b\n",
    "\n",
    "add(mul(2,3),2)"
   ]
  },
  {
   "cell_type": "code",
   "execution_count": 25,
   "id": "e082de25",
   "metadata": {},
   "outputs": [
    {
     "name": "stdout",
     "output_type": "stream",
     "text": [
      "[1, 2, 3, 5]\n"
     ]
    }
   ],
   "source": [
    "a=[2,1,3,5]\n",
    "\n",
    "def sort(arr):\n",
    "    for i in range(len(arr)):\n",
    "        for j in range(len(arr)):\n",
    "            if arr[i] < arr[j]:\n",
    "                arr[i],arr[j] = arr[j],arr[i]\n",
    "                \n",
    "    return arr\n",
    "\n",
    "print(sort(a))"
   ]
  },
  {
   "cell_type": "code",
   "execution_count": 26,
   "id": "e4ad29f1",
   "metadata": {},
   "outputs": [
    {
     "name": "stdout",
     "output_type": "stream",
     "text": [
      "[1, 2, 3, 5]\n"
     ]
    }
   ],
   "source": [
    "# sorting using class\n",
    "class Sort():\n",
    "    def __init__(self,arr):\n",
    "        self.arr=arr\n",
    "        \n",
    "    def do(self):\n",
    "        for i in range(len(self.arr)):\n",
    "            for j in range(len(self.arr)):\n",
    "                if self.arr[i] < self.arr[j]:\n",
    "                    self.arr[i],self.arr[j] = self.arr[j],self.arr[i]\n",
    "        return self.arr\n",
    "    \n",
    "print(Sort(a).do())"
   ]
  },
  {
   "cell_type": "code",
   "execution_count": 27,
   "id": "65cd0281",
   "metadata": {},
   "outputs": [
    {
     "data": {
      "text/plain": [
       "{'Hello': 'Hello', 'a': [1, 2, 3], 'q': True}"
      ]
     },
     "execution_count": 27,
     "metadata": {},
     "output_type": "execute_result"
    }
   ],
   "source": [
    "p = {'Hello':'Hello','a':[1,2,3],'q':True}\n",
    "p"
   ]
  },
  {
   "cell_type": "code",
   "execution_count": 28,
   "id": "5fe2f159",
   "metadata": {},
   "outputs": [
    {
     "ename": "TypeError",
     "evalue": "'tuple' object does not support item assignment",
     "output_type": "error",
     "traceback": [
      "\u001b[1;31m---------------------------------------------------------------------------\u001b[0m",
      "\u001b[1;31mTypeError\u001b[0m                                 Traceback (most recent call last)",
      "\u001b[1;32m~\\AppData\\Local\\Temp/ipykernel_14628/641664012.py\u001b[0m in \u001b[0;36m<module>\u001b[1;34m\u001b[0m\n\u001b[0;32m      1\u001b[0m \u001b[0ma\u001b[0m\u001b[1;33m=\u001b[0m\u001b[1;33m(\u001b[0m\u001b[1;36m1\u001b[0m\u001b[1;33m,\u001b[0m\u001b[1;36m2\u001b[0m\u001b[1;33m,\u001b[0m\u001b[1;36m3\u001b[0m\u001b[1;33m,\u001b[0m\u001b[1;36m4\u001b[0m\u001b[1;33m)\u001b[0m\u001b[1;33m\u001b[0m\u001b[1;33m\u001b[0m\u001b[0m\n\u001b[1;32m----> 2\u001b[1;33m \u001b[0ma\u001b[0m\u001b[1;33m[\u001b[0m\u001b[1;36m1\u001b[0m\u001b[1;33m]\u001b[0m\u001b[1;33m=\u001b[0m\u001b[1;36m0\u001b[0m\u001b[1;33m\u001b[0m\u001b[1;33m\u001b[0m\u001b[0m\n\u001b[0m",
      "\u001b[1;31mTypeError\u001b[0m: 'tuple' object does not support item assignment"
     ]
    }
   ],
   "source": [
    "a=(1,2,3,4) #tuples are readable means cannot modify it\n",
    "a[1]=0"
   ]
  },
  {
   "cell_type": "code",
   "execution_count": 38,
   "id": "7d62bf1f",
   "metadata": {},
   "outputs": [
    {
     "name": "stdout",
     "output_type": "stream",
     "text": [
      "[{'from': '1', 'to': '2', 'sum': 10}, {'from': '2', 'to': '1', 'sum': 10}, {'from': '1', 'to': '3', 'sum': 10}, {'from': '1', 'to': '2', 'sum': 10}, {'from': '2', 'to': '1', 'sum': 10}]\n",
      "{'1': 100, '2': 100}\n"
     ]
    }
   ],
   "source": [
    "lis=[]\n",
    "user={\n",
    "    '1':100,\n",
    "    '2':100\n",
    "}\n",
    "def transact(a,b,money):\n",
    "    try:\n",
    "        transaction={\n",
    "            'from':a,\n",
    "            'to':b,\n",
    "            'sum':money\n",
    "        }\n",
    "        lis.append(transaction)\n",
    "        if a in user and b in user:\n",
    "            user[a] -= money\n",
    "            user[b] += money\n",
    "        \n",
    "    except Exception as e:\n",
    "        lis.pop()\n",
    "        print('User not found')\n",
    "        print(e)\n",
    "        \n",
    "transact('1','2',10)\n",
    "transact('2','1',10)\n",
    "transact('1','3',10)\n",
    "transact('1','2',10)\n",
    "transact('2','1',10)\n",
    "print(lis)\n",
    "print(user)"
   ]
  },
  {
   "cell_type": "code",
   "execution_count": null,
   "id": "dba596ca",
   "metadata": {},
   "outputs": [],
   "source": []
  }
 ],
 "metadata": {
  "kernelspec": {
   "display_name": "Python 3 (ipykernel)",
   "language": "python",
   "name": "python3"
  },
  "language_info": {
   "codemirror_mode": {
    "name": "ipython",
    "version": 3
   },
   "file_extension": ".py",
   "mimetype": "text/x-python",
   "name": "python",
   "nbconvert_exporter": "python",
   "pygments_lexer": "ipython3",
   "version": "3.9.0"
  }
 },
 "nbformat": 4,
 "nbformat_minor": 5
}
