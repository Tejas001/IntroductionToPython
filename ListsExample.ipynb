{
 "cells": [
  {
   "cell_type": "markdown",
   "id": "18512e64",
   "metadata": {},
   "source": [
    "# Guessing correct number"
   ]
  },
  {
   "cell_type": "code",
   "execution_count": 7,
   "id": "233f6e3f",
   "metadata": {},
   "outputs": [
    {
     "name": "stdout",
     "output_type": "stream",
     "text": [
      "Enter min no2\n",
      "Enter max no8\n",
      "2\n",
      "Enter no of guesses4\n",
      "User input4\n",
      "Answer is bigger\n",
      "User input5\n",
      "Answer is bigger\n",
      "User input3\n",
      "Answer is bigger\n",
      "User input1\n",
      "Answer is smaller\n"
     ]
    }
   ],
   "source": [
    "import random\n",
    "\n",
    "min_number=int(input('Enter min no'))\n",
    "max_number=int(input('Enter max no'))\n",
    "\n",
    "correct=int(random.random()*(max_number-min_number)+min_number)\n",
    "print(f'Correct answer is {correct}')\n",
    "no_of_guess=int(input('Enter no of guesses'))\n",
    "\n",
    "for i in range(no_of_guess):\n",
    "    user_input=int(input('User input: '))\n",
    "    if user_input == correct:\n",
    "        print('Right answer')\n",
    "        break\n",
    "    elif user_input > correct:\n",
    "        print('Answer is bigger')\n",
    "    else:\n",
    "        print('Answer is smaller')"
   ]
  },
  {
   "cell_type": "markdown",
   "id": "a3023269",
   "metadata": {},
   "source": [
    "# Tic tac toe game"
   ]
  },
  {
   "cell_type": "code",
   "execution_count": 16,
   "id": "25fe02b1",
   "metadata": {},
   "outputs": [
    {
     "name": "stdout",
     "output_type": "stream",
     "text": [
      "0 0 0 1 0 2\n"
     ]
    }
   ],
   "source": [
    "import random\n",
    "\n",
    "board=[\n",
    "    [0,0,0],\n",
    "    [0,0,0],\n",
    "    [0,0,0]\n",
    "]\n",
    "\n",
    "winner = False\n",
    "\n",
    "while not winner:\n",
    "    #computer\n",
    "    rand_x=random.randint(0,2)\n",
    "    rand_y=random.randint(0,2)\n",
    "    board[rand_x][rand_y]=\"X\"\n",
    "    \n",
    "    #user input\n",
    "    try:\n",
    "        user_input=input().split(\" \")\n",
    "        user_x=int(user_input[0])\n",
    "        user_y=int(user_input[1])\n",
    "        board[user_x][user_y]=\"0\"\n",
    "    except:\n",
    "        print('User no more to play')\n",
    "    if board[0][0] == board[0][1] and board[0][1] == board[0][2] and board[0][0] == board[0][2]:\n",
    "        if board[0][0] == 'X':\n",
    "            print('Computer won')\n",
    "        else:\n",
    "            print('User won')\n",
    "        winner = True\n",
    "    print(board)\n",
    "    break"
   ]
  },
  {
   "cell_type": "code",
   "execution_count": 17,
   "id": "97564bdc",
   "metadata": {},
   "outputs": [
    {
     "name": "stdout",
     "output_type": "stream",
     "text": [
      "10\n",
      "[10, 20, 30, 40, 50, 60, 70, 80, 90, 100] 10\n"
     ]
    }
   ],
   "source": [
    "n=int(input())\n",
    "output_lst=[]\n",
    "for i in range(1,100+1):\n",
    "    if i%n == 0:\n",
    "        output_lst.append(i)\n",
    "\n",
    "print(output_lst,len(output_lst))"
   ]
  },
  {
   "cell_type": "code",
   "execution_count": null,
   "id": "ae6bf78d",
   "metadata": {},
   "outputs": [],
   "source": [
    "\n"
   ]
  }
 ],
 "metadata": {
  "kernelspec": {
   "display_name": "Python 3 (ipykernel)",
   "language": "python",
   "name": "python3"
  },
  "language_info": {
   "codemirror_mode": {
    "name": "ipython",
    "version": 3
   },
   "file_extension": ".py",
   "mimetype": "text/x-python",
   "name": "python",
   "nbconvert_exporter": "python",
   "pygments_lexer": "ipython3",
   "version": "3.9.0"
  }
 },
 "nbformat": 4,
 "nbformat_minor": 5
}
