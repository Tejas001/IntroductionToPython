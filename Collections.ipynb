{
 "cells": [
  {
   "cell_type": "code",
   "execution_count": 7,
   "id": "ada89d53",
   "metadata": {},
   "outputs": [],
   "source": [
    "import collections "
   ]
  },
  {
   "cell_type": "code",
   "execution_count": 8,
   "id": "f9342524",
   "metadata": {},
   "outputs": [
    {
     "name": "stdout",
     "output_type": "stream",
     "text": [
      "Counter({5: 3, 1: 2, 2: 2, 3: 1, 4: 1})\n",
      "[(5, 3), (1, 2)]\n"
     ]
    }
   ],
   "source": [
    "l=[1,1,2,2,3,4,5,5,5]\n",
    "count=Counter(l)\n",
    "print(count)\n",
    "print(count.most_common(2))"
   ]
  },
  {
   "cell_type": "code",
   "execution_count": 9,
   "id": "f0b12459",
   "metadata": {},
   "outputs": [
    {
     "name": "stdout",
     "output_type": "stream",
     "text": [
      "[('a', 1), ('b', 2)]\n"
     ]
    }
   ],
   "source": [
    "l1=['a','b']\n",
    "l2=[1,2]\n",
    "print(list(zip(l1,l2)))"
   ]
  },
  {
   "cell_type": "code",
   "execution_count": null,
   "id": "bf38646d",
   "metadata": {},
   "outputs": [],
   "source": []
  }
 ],
 "metadata": {
  "kernelspec": {
   "display_name": "Python 3 (ipykernel)",
   "language": "python",
   "name": "python3"
  },
  "language_info": {
   "codemirror_mode": {
    "name": "ipython",
    "version": 3
   },
   "file_extension": ".py",
   "mimetype": "text/x-python",
   "name": "python",
   "nbconvert_exporter": "python",
   "pygments_lexer": "ipython3",
   "version": "3.9.0"
  }
 },
 "nbformat": 4,
 "nbformat_minor": 5
}
