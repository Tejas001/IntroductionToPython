{
 "cells": [
  {
   "cell_type": "markdown",
   "id": "2d801e8e",
   "metadata": {},
   "source": [
    "# Phonebook\n"
   ]
  },
  {
   "cell_type": "code",
   "execution_count": null,
   "id": "06216e9b",
   "metadata": {},
   "outputs": [],
   "source": [
    "n = int(input(''))\n",
    "\n",
    "phonebook=[]\n",
    "phonebookIndexNumber={}\n",
    "phonebookIndexName={}\n",
    "\n",
    "def addToPhonebook(number,name):\n",
    "    phonebookIndexNumber[number]=name\n",
    "    phonebookIndexName[name]=number\n",
    "    print('Added successfully')\n",
    "\n",
    "def viewPhonebook():\n",
    "    print(sorted(list(phonebookIndexNumber.values()),key=lambda x:x[1]))\n",
    "    \n",
    "def deleteByNumber(number):\n",
    "    if number in phonebookIndexNumber:\n",
    "        ans = phonebookIndexNumber[number]\n",
    "        name=ans[1]\n",
    "        del phonebookIndexNumber[number]\n",
    "        del phonebookIndexName[name]\n",
    "        print('Deleting number')\n",
    "    else:\n",
    "        print('Number not exist')\n",
    "    \n",
    "    \n",
    "def deleteByName(name):\n",
    "    if name in phonebookIndexName:\n",
    "        ans = phonebookIndexName[name]\n",
    "        num=ans[0]\n",
    "        del phonebookIndexNumber[num]\n",
    "        del phonebookIndexName[name]\n",
    "\n",
    "        print('Deleting name')\n",
    "    else:\n",
    "        print('Name not exist')\n",
    "    \n",
    "\n",
    "def updatePhonebook(oldnum,newnum,newname):\n",
    "    if oldnum in phonebookIndexNumber:\n",
    "        ans=phonebookIndexNumber[oldnum]\n",
    "        del phonebookIndexNumber[oldnum]\n",
    "        del phonebookIndexName[ans[1]]\n",
    "        phonebookIndexNumber[newname]=[newnum,newname]\n",
    "        phonebookIndexName[newname]=[newnum,newname]\n",
    "        print('Phonebook Updated')\n",
    "\n",
    "for i in range(n):\n",
    "    query=input().split(\" \")\n",
    "    if query[0] == \"add\":\n",
    "        addToPhonebook(query[1],query[2])\n",
    "    elif query[0] == \"view\":\n",
    "        viewPhonebook()\n",
    "    elif query[0] == \"delete\":\n",
    "        if query[1] == 'number':\n",
    "            deleteByNumber(query[2])\n",
    "        elif query[1] == 'name':\n",
    "            deleteByName(query[2])\n",
    "    elif query[0] == \"edit\":\n",
    "        updatePhonebook(query[1],query[2],query[3])\n",
    "    else:\n",
    "        print('Wrong command')"
   ]
  }
 ],
 "metadata": {
  "kernelspec": {
   "display_name": "Python 3 (ipykernel)",
   "language": "python",
   "name": "python3"
  },
  "language_info": {
   "codemirror_mode": {
    "name": "ipython",
    "version": 3
   },
   "file_extension": ".py",
   "mimetype": "text/x-python",
   "name": "python",
   "nbconvert_exporter": "python",
   "pygments_lexer": "ipython3",
   "version": "3.9.0"
  }
 },
 "nbformat": 4,
 "nbformat_minor": 5
}
