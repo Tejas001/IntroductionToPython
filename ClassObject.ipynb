{
 "cells": [
  {
   "cell_type": "code",
   "execution_count": 2,
   "id": "a600b601",
   "metadata": {},
   "outputs": [
    {
     "name": "stdout",
     "output_type": "stream",
     "text": [
      "Hello Class\n"
     ]
    }
   ],
   "source": [
    "class myclass():\n",
    "    print('Hello Class')\n",
    "    \n",
    "c=myclass()\n"
   ]
  },
  {
   "cell_type": "code",
   "execution_count": 27,
   "id": "bdeb779f",
   "metadata": {},
   "outputs": [
    {
     "name": "stdout",
     "output_type": "stream",
     "text": [
      "Print balance 10000\n",
      "Print balance 9000\n"
     ]
    }
   ],
   "source": [
    "class bank():\n",
    "    def __init__(self,name,balance):\n",
    "        self.name=name\n",
    "        self.balance=balance\n",
    "    def deposit(self,amount):\n",
    "        self.balance+=amount\n",
    "    def display(self):\n",
    "        print('Print balance',self.balance)\n",
    "    def withdraw(self,amount):\n",
    "        self.balance -= amount\n",
    "\n",
    "# Inheritance        \n",
    "class childbank(bank):\n",
    "    def withdraw(self,amount):\n",
    "        if amount<=2000:\n",
    "            self.balance -= amount\n",
    "        else:\n",
    "            print('Withdraw amount exceed...')\n",
    "# usr1=bank('Tejas',40000)\n",
    "# usr2=bank('Ram',50000)\n",
    "# usr1.display()\n",
    "# usr1.withdraw(1000)\n",
    "# usr1.deposit(10000)\n",
    "# usr1.display()\n",
    "c_usr1=childbank('chilname',10000)\n",
    "c_usr1.display()\n",
    "c_usr1.withdraw(1000)\n",
    "c_usr1.display()"
   ]
  },
  {
   "cell_type": "code",
   "execution_count": 22,
   "id": "d72747a5",
   "metadata": {},
   "outputs": [
    {
     "name": "stdout",
     "output_type": "stream",
     "text": [
      "Student info: Name: Tejas, Age: 27, Marks:self.marks\n"
     ]
    }
   ],
   "source": [
    "class student():\n",
    "    def __init__(self,name,age,marks):\n",
    "        self.name=name\n",
    "        self.age=age\n",
    "        self.marks=marks\n",
    "    \n",
    "    def display(self):\n",
    "        print(f'Student info: Name: {self.name}, Age: {self.age}, Marks:self.marks')\n",
    "    def grade(self,marks):\n",
    "        if (marks>=80):\n",
    "            print('Topper')\n",
    "        elif (marks>=65 and marks<80):\n",
    "            print('First grade')\n",
    "        elif (marks>=50 and marks<65):\n",
    "            print('Second grade')\n",
    "        elif (marks>=35 and marks<50):\n",
    "            print('Third grade')\n",
    "        else:\n",
    "            print('Fail')\n",
    "            \n",
    "std1=student('Tejas',27,80)\n",
    "std1.display()"
   ]
  },
  {
   "cell_type": "code",
   "execution_count": 24,
   "id": "1bb67cd9",
   "metadata": {},
   "outputs": [
    {
     "name": "stdout",
     "output_type": "stream",
     "text": [
      "Fail\n"
     ]
    }
   ],
   "source": [
    "std1.grade(34)"
   ]
  },
  {
   "cell_type": "code",
   "execution_count": 30,
   "id": "9ed225c9",
   "metadata": {},
   "outputs": [
    {
     "name": "stdout",
     "output_type": "stream",
     "text": [
      "Selling price of bike is 1000\n",
      "Selling price of bike is 2000\n"
     ]
    }
   ],
   "source": [
    "# Private Variable\n",
    "class bike():\n",
    "    def __init__(self):\n",
    "        self.__maxprice=1000\n",
    "        \n",
    "    def sell(self):\n",
    "        print(f'Selling price of bike is {self.__maxprice}')\n",
    "        \n",
    "    def setmaxprice(self,price):\n",
    "        self.__maxprice=price\n",
    "        \n",
    "b=bike()\n",
    "b.sell()\n",
    "b.setmaxprice(2000)\n",
    "b.sell()"
   ]
  },
  {
   "cell_type": "code",
   "execution_count": 40,
   "id": "a08b75a1",
   "metadata": {},
   "outputs": [
    {
     "name": "stdout",
     "output_type": "stream",
     "text": [
      "New Delhi is the capital of India.\n",
      "Hindi is the most widely spoken language of India.\n",
      "India is a developing country.\n",
      "Washington, D.C. is the capital of USA.\n",
      "English is the primary language of USA.\n",
      "USA is a developed country.\n"
     ]
    }
   ],
   "source": [
    "#Polymorphism\n",
    "# It is defined by defining same method name but different class\n",
    "class India():\n",
    "    def capital(self):\n",
    "        print(\"New Delhi is the capital of India.\")\n",
    "\n",
    "    def language(self):\n",
    "        print(\"Hindi is the most widely spoken language of India.\")\n",
    "\n",
    "    def type(self):\n",
    "        print(\"India is a developing country.\")\n",
    "\n",
    "class USA():\n",
    "    def capital(self):\n",
    "        print(\"Washington, D.C. is the capital of USA.\")\n",
    "\n",
    "    def language(self):\n",
    "        print(\"English is the primary language of USA.\")\n",
    "\n",
    "    def type(self):\n",
    "        print(\"USA is a developed country.\")\n",
    "\n",
    "obj_ind = India()\n",
    "obj_usa = USA()\n",
    "for country in (obj_ind, obj_usa):\n",
    "    country.capital()\n",
    "    country.language()\n",
    "    country.type()\n"
   ]
  },
  {
   "cell_type": "code",
   "execution_count": null,
   "id": "5af3c29e",
   "metadata": {},
   "outputs": [],
   "source": []
  }
 ],
 "metadata": {
  "kernelspec": {
   "display_name": "Python 3 (ipykernel)",
   "language": "python",
   "name": "python3"
  },
  "language_info": {
   "codemirror_mode": {
    "name": "ipython",
    "version": 3
   },
   "file_extension": ".py",
   "mimetype": "text/x-python",
   "name": "python",
   "nbconvert_exporter": "python",
   "pygments_lexer": "ipython3",
   "version": "3.9.0"
  }
 },
 "nbformat": 4,
 "nbformat_minor": 5
}
