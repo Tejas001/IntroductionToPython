{
 "cells": [
  {
   "cell_type": "code",
   "execution_count": 1,
   "id": "b2667d9f",
   "metadata": {},
   "outputs": [
    {
     "name": "stdout",
     "output_type": "stream",
     "text": [
      "Lower value\n"
     ]
    }
   ],
   "source": [
    "a=10\n",
    "b=20\n",
    "if a>b:\n",
    "    print('Higher value')\n",
    "else:\n",
    "    print('Lower value')"
   ]
  },
  {
   "cell_type": "code",
   "execution_count": 5,
   "id": "ffcdd92c",
   "metadata": {},
   "outputs": [
    {
     "name": "stdout",
     "output_type": "stream",
     "text": [
      "Enter a password:Tejas!1994\n",
      "password is Correct\n"
     ]
    }
   ],
   "source": [
    "password='Tejas@1994'\n",
    "password_1='Tejas!1994'\n",
    "entered_pwd=input('Enter a password:')\n",
    "\n",
    "if entered_pwd==password:\n",
    "    print('Correct password')\n",
    "elif entered_pwd==password_1:\n",
    "    print('password is Correct')\n",
    "else:\n",
    "    print('Retry again')"
   ]
  },
  {
   "cell_type": "code",
   "execution_count": 6,
   "id": "fc642eac",
   "metadata": {},
   "outputs": [
    {
     "name": "stdout",
     "output_type": "stream",
     "text": [
      "True statement\n"
     ]
    }
   ],
   "source": [
    "if False:\n",
    "    print('False statement')\n",
    "elif True:\n",
    "    print('True statement')\n",
    "else:\n",
    "    print('Retry again')"
   ]
  },
  {
   "cell_type": "code",
   "execution_count": 8,
   "id": "a41dc9ae",
   "metadata": {},
   "outputs": [
    {
     "name": "stdout",
     "output_type": "stream",
     "text": [
      "b is greater than a\n"
     ]
    }
   ],
   "source": [
    "if b>a: print('b is greater than a')"
   ]
  },
  {
   "cell_type": "code",
   "execution_count": 9,
   "id": "41a39bf9",
   "metadata": {},
   "outputs": [
    {
     "name": "stdout",
     "output_type": "stream",
     "text": [
      "10\n"
     ]
    }
   ],
   "source": [
    "print(a) if a<b else print(b)"
   ]
  },
  {
   "cell_type": "code",
   "execution_count": 10,
   "id": "d90fb72a",
   "metadata": {},
   "outputs": [
    {
     "name": "stdout",
     "output_type": "stream",
     "text": [
      "H\n",
      "a\n",
      "p\n",
      "p\n",
      "y\n",
      " \n",
      "N\n",
      "e\n",
      "w\n",
      " \n",
      "Y\n",
      "e\n",
      "a\n",
      "r\n"
     ]
    }
   ],
   "source": [
    "for c in 'Happy New Year':\n",
    "    print(c)"
   ]
  },
  {
   "cell_type": "code",
   "execution_count": 22,
   "id": "bad58594",
   "metadata": {},
   "outputs": [
    {
     "name": "stdout",
     "output_type": "stream",
     "text": [
      "H\n",
      "a\n",
      "p\n",
      "p\n",
      "y\n",
      " \n",
      "e\n",
      "w\n",
      " \n",
      "Y\n",
      "e\n",
      "a\n",
      "r\n"
     ]
    }
   ],
   "source": [
    "t='N'\n",
    "for c in 'Happy New Year':\n",
    "    if c.lower()==t.lower():\n",
    "        continue\n",
    "    print(c)"
   ]
  },
  {
   "cell_type": "code",
   "execution_count": 20,
   "id": "859e0cb0",
   "metadata": {},
   "outputs": [
    {
     "name": "stdout",
     "output_type": "stream",
     "text": [
      "NA\n",
      "Matched\n",
      "NA\n"
     ]
    }
   ],
   "source": [
    "word='Happy New Year'\n",
    "check='NEW'\n",
    "for char in word.split():\n",
    "    if char.lower()==check.lower():\n",
    "        print('Matched')\n",
    "    elif char==check.lower():\n",
    "        print('Matched here')\n",
    "    else:\n",
    "        print('NA')"
   ]
  },
  {
   "cell_type": "code",
   "execution_count": 30,
   "id": "390c0f02",
   "metadata": {
    "scrolled": true
   },
   "outputs": [
    {
     "name": "stdout",
     "output_type": "stream",
     "text": [
      "Enter a number4\n",
      "1\n",
      "1\n",
      "2\n",
      "1\n",
      "2\n",
      "3\n",
      "1\n",
      "2\n",
      "3\n",
      "4\n"
     ]
    }
   ],
   "source": [
    "n = int(input('Enter a number'))\n",
    "i=1\n",
    "while i<=n:\n",
    "    j=1\n",
    "    while(j<=i):\n",
    "        print(j)\n",
    "        j+=1\n",
    "    i+=1"
   ]
  },
  {
   "cell_type": "code",
   "execution_count": 31,
   "id": "0af9715b",
   "metadata": {},
   "outputs": [
    {
     "name": "stdout",
     "output_type": "stream",
     "text": [
      "2\n",
      "4\n",
      "6\n",
      "8\n"
     ]
    }
   ],
   "source": [
    "for c in range(2,10,2):\n",
    "    print(c)"
   ]
  },
  {
   "cell_type": "code",
   "execution_count": 32,
   "id": "0e293742",
   "metadata": {},
   "outputs": [
    {
     "name": "stdout",
     "output_type": "stream",
     "text": [
      "Charging is 20\n",
      "Charging is 21\n",
      "Charging is 22\n",
      "Charging is 23\n",
      "Charging is 24\n",
      "Charging is 25\n",
      "Charging is 26\n",
      "Charging is 27\n",
      "Charging is 28\n",
      "Charging is 29\n"
     ]
    }
   ],
   "source": [
    "charging=20\n",
    "while charging<30:\n",
    "    print(f'Charging is {charging}')\n",
    "    charging+=1"
   ]
  },
  {
   "cell_type": "code",
   "execution_count": 36,
   "id": "7f8adf4a",
   "metadata": {},
   "outputs": [
    {
     "name": "stdout",
     "output_type": "stream",
     "text": [
      "1\n",
      "2\n",
      "Fizz\n",
      "4\n",
      "BUZZ\n",
      "Fizz\n",
      "7\n",
      "8\n",
      "Fizz\n",
      "BUZZ\n",
      "11\n",
      "Fizz\n",
      "13\n",
      "14\n",
      "FizzBuzz\n",
      "16\n",
      "17\n",
      "Fizz\n",
      "19\n",
      "BUZZ\n",
      "Fizz\n",
      "22\n",
      "23\n",
      "Fizz\n",
      "BUZZ\n",
      "26\n",
      "Fizz\n",
      "28\n",
      "29\n",
      "FizzBuzz\n",
      "31\n",
      "32\n",
      "Fizz\n",
      "34\n",
      "BUZZ\n",
      "Fizz\n",
      "37\n",
      "38\n",
      "Fizz\n",
      "BUZZ\n",
      "41\n",
      "Fizz\n",
      "43\n",
      "44\n",
      "FizzBuzz\n",
      "46\n",
      "47\n",
      "Fizz\n",
      "49\n",
      "BUZZ\n",
      "Fizz\n",
      "52\n",
      "53\n",
      "Fizz\n",
      "BUZZ\n",
      "56\n",
      "Fizz\n",
      "58\n",
      "59\n",
      "FizzBuzz\n",
      "61\n",
      "62\n",
      "Fizz\n",
      "64\n",
      "BUZZ\n",
      "Fizz\n",
      "67\n",
      "68\n",
      "Fizz\n",
      "BUZZ\n",
      "71\n",
      "Fizz\n",
      "73\n",
      "74\n",
      "FizzBuzz\n",
      "76\n",
      "77\n",
      "Fizz\n",
      "79\n",
      "BUZZ\n",
      "Fizz\n",
      "82\n",
      "83\n",
      "Fizz\n",
      "BUZZ\n",
      "86\n",
      "Fizz\n",
      "88\n",
      "89\n",
      "FizzBuzz\n",
      "91\n",
      "92\n",
      "Fizz\n",
      "94\n",
      "BUZZ\n",
      "Fizz\n",
      "97\n",
      "98\n",
      "Fizz\n",
      "BUZZ\n"
     ]
    }
   ],
   "source": [
    "count=1\n",
    "end=100\n",
    "while count<=end:\n",
    "    if (count%5==0 and count%3==0):\n",
    "        print('FizzBuzz')\n",
    "    elif (count%3==0):\n",
    "        print('Fizz')\n",
    "    elif (count%5==0):\n",
    "        print('BUZZ')\n",
    "    else:\n",
    "        print(count)\n",
    "    count+=1"
   ]
  },
  {
   "cell_type": "code",
   "execution_count": null,
   "id": "ead05a8f",
   "metadata": {},
   "outputs": [],
   "source": []
  }
 ],
 "metadata": {
  "kernelspec": {
   "display_name": "Python 3 (ipykernel)",
   "language": "python",
   "name": "python3"
  },
  "language_info": {
   "codemirror_mode": {
    "name": "ipython",
    "version": 3
   },
   "file_extension": ".py",
   "mimetype": "text/x-python",
   "name": "python",
   "nbconvert_exporter": "python",
   "pygments_lexer": "ipython3",
   "version": "3.9.0"
  }
 },
 "nbformat": 4,
 "nbformat_minor": 5
}
